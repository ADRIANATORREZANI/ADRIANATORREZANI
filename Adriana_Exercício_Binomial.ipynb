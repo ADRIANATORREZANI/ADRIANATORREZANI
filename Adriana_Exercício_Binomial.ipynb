{
  "nbformat": 4,
  "nbformat_minor": 0,
  "metadata": {
    "colab": {
      "provenance": [],
      "include_colab_link": true
    },
    "kernelspec": {
      "name": "python3",
      "display_name": "Python 3"
    },
    "language_info": {
      "name": "python"
    }
  },
  "cells": [
    {
      "cell_type": "markdown",
      "metadata": {
        "id": "view-in-github",
        "colab_type": "text"
      },
      "source": [
        "<a href=\"https://colab.research.google.com/github/ADRIANATORREZANI/ADRIANATORREZANI/blob/main/Adriana_Exerc%C3%ADcio_Binomial.ipynb\" target=\"_parent\"><img src=\"https://colab.research.google.com/assets/colab-badge.svg\" alt=\"Open In Colab\"/></a>"
      ]
    },
    {
      "cell_type": "code",
      "execution_count": null,
      "metadata": {
        "id": "wEhum2a5ld9p"
      },
      "outputs": [],
      "source": [
        "from scipy.stats import binom"
      ]
    },
    {
      "cell_type": "code",
      "source": [
        "#1 5% dos motoristas de caminhões brasileiros são mulheres. Numa amostra de 10 motoristas, qual a probabilidade de:\n",
        "#a. 2 dos motoristas da amostra serem mulheres;\n",
        "#b. nenhum dos motoristas da amostra serem mulheres;\n",
        "#c. pelo menos 1 dos motoristas da amostra ser mulher;\n"
      ],
      "metadata": {
        "id": "AUnyosKaDjuf"
      },
      "execution_count": null,
      "outputs": []
    },
    {
      "cell_type": "code",
      "source": [
        "from math import comb\n",
        "n = 10  # Número de motoristas\n",
        "p = 0.05  # Probabilidade de uma motorista ser mulher\n",
        "def binomial_probability(n, k, p):\n",
        "    return comb(n, k) * (p ** k) * ((1 - p) ** (n - k))\n",
        "\n",
        "# a) P(X = 2)\n",
        "p_x_2 = binomial_probability(n, 2, p)\n",
        "\n",
        "# b) P(X = 0)\n",
        "p_x_0 = binomial_probability(n, 0, p)\n",
        "\n",
        "# c) P(X ≥ 1) = 1 - P(X = 0)\n",
        "p_x_geq_1 = 1 - p_x_0\n",
        "\n",
        "p_x_2, p_x_0, p_x_geq_1\n"
      ],
      "metadata": {
        "colab": {
          "base_uri": "https://localhost:8080/"
        },
        "id": "1VSHvMhu4NrZ",
        "outputId": "f9213add-b396-4794-b491-76c3eb3ccb08"
      },
      "execution_count": null,
      "outputs": [
        {
          "output_type": "execute_result",
          "data": {
            "text/plain": [
              "(0.07463479852001952, 0.5987369392383787, 0.4012630607616213)"
            ]
          },
          "metadata": {},
          "execution_count": 3
        }
      ]
    },
    {
      "cell_type": "code",
      "source": [
        "#2)Considere que um sistema de detecção de mísseis tenha uma probabilidade de 0,9 de identificar um ataque.\n",
        "#a.Se 2 sistemas são instalados e operam de forma independente, qual a probabilidade de pelo menos 1 dos sistemas funcionar?\n",
        "#b.Se 3 sistemas são instalados e operam de forma independente, qual a probabilidade de pelo menos 1 dos sistemas funcionar?\n",
        "#c.Você sugeriria o uso de múltiplos sistemas?\n"
      ],
      "metadata": {
        "id": "B6LQN2ZVEZ8h"
      },
      "execution_count": null,
      "outputs": []
    },
    {
      "cell_type": "code",
      "source": [
        "p_success = 0.9\n",
        "p_failure = 1 - p_success\n",
        "def at_least_one_works(num_systems, p_failure):\n",
        "    return 1 - (p_failure ** num_systems)\n",
        "\n",
        "# a) Para 2 sistemas\n",
        "p_at_least_one_2 = at_least_one_works(2, p_failure)\n",
        "\n",
        "# b) Para 3 sistemas\n",
        "p_at_least_one_3 = at_least_one_works(3, p_failure)\n",
        "\n",
        "print(f\"Probabilidade de pelo menos 1 sistema funcionar (2 sistemas): {p_at_least_one_2:.2%}\")\n",
        "print(f\"Probabilidade de pelo menos 1 sistema funcionar (3 sistemas): {p_at_least_one_3:.2%}\")\n"
      ],
      "metadata": {
        "colab": {
          "base_uri": "https://localhost:8080/"
        },
        "id": "UGIK1o61EmqX",
        "outputId": "c7e5f2bc-cabd-40f2-ea21-1d4b429af6bc"
      },
      "execution_count": null,
      "outputs": [
        {
          "output_type": "stream",
          "name": "stdout",
          "text": [
            "Probabilidade de pelo menos 1 sistema funcionar (2 sistemas): 99.00%\n",
            "Probabilidade de pelo menos 1 sistema funcionar (3 sistemas): 99.90%\n"
          ]
        }
      ]
    },
    {
      "cell_type": "code",
      "source": [
        "#3) Na manufatura de um certo artigo, é sabido que 10% dos artigos são defeituosos. Sabendo que esse processo segue uma distribuição binomial,\n",
        "# qual é a probabilidade de que uma amostra aleatória de quatro artigos apresente:\n",
        "#Nenhum defeituoso ?\n",
        "#Um defeituoso ?\n",
        "#Um ou mais defeituosos ?\n",
        "#Um ou menos defeituoso ?\n",
        "#Dois defeituosos ?\n",
        "#No máximo dois defeituosos ?\n",
        "#No mínimo dois defeituosos ?\n",
        "#Não mais que três defeituosos ?\n"
      ],
      "metadata": {
        "id": "Cc8YfE7Nb-9y"
      },
      "execution_count": null,
      "outputs": []
    },
    {
      "cell_type": "code",
      "source": [
        "from math import comb\n",
        "n = 4\n",
        "p = 0.1\n",
        "def binomial_probability(n, k, p):\n",
        "    return comb(n, k) * (p ** k) * ((1 - p) ** (n - k))\n",
        "p_x_0 = binomial_probability(n, 0, p)\n",
        "p_x_1 = binomial_probability(n, 1, p)\n",
        "p_x_geq_1 = 1 - p_x_0\n",
        "p_x_leq_1 = p_x_0 + p_x_1\n",
        "p_x_2 = binomial_probability(n, 2, p)\n",
        "p_x_leq_2 = p_x_0 + p_x_1 + p_x_2\n",
        "p_x_geq_2 = 1 - (p_x_0 + p_x_1)\n",
        "p_x_leq_3 = 1 - binomial_probability(n, 4, p)\n",
        "print(f\"Probabilidade de nenhum defeituoso: {p_x_0:.2%}\")\n",
        "print(f\"Probabilidade de um defeituoso: {p_x_1:.2%}\")\n",
        "print(f\"Probabilidade de um ou mais defeituosos: {p_x_geq_1:.2%}\")\n",
        "print(f\"Probabilidade de um ou menos defeituoso: {p_x_leq_1:.2%}\")\n",
        "print(f\"Probabilidade de dois defeituosos: {p_x_2:.2%}\")\n",
        "print(f\"Probabilidade de no máximo dois defeituosos: {p_x_leq_2:.2%}\")\n",
        "print(f\"Probabilidade de no mínimo dois defeituosos: {p_x_geq_2:.2%}\")\n",
        "print(f\"Probabilidade de não mais que três defeituosos: {p_x_leq_3:.2%}\")\n"
      ],
      "metadata": {
        "colab": {
          "base_uri": "https://localhost:8080/"
        },
        "id": "BMY56NtkcUSb",
        "outputId": "6cc7faf2-db20-47e8-cae0-098be2e38839"
      },
      "execution_count": null,
      "outputs": [
        {
          "output_type": "stream",
          "name": "stdout",
          "text": [
            "Probabilidade de nenhum defeituoso: 65.61%\n",
            "Probabilidade de um defeituoso: 29.16%\n",
            "Probabilidade de um ou mais defeituosos: 34.39%\n",
            "Probabilidade de um ou menos defeituoso: 94.77%\n",
            "Probabilidade de dois defeituosos: 4.86%\n",
            "Probabilidade de no máximo dois defeituosos: 99.63%\n",
            "Probabilidade de no mínimo dois defeituosos: 5.23%\n",
            "Probabilidade de não mais que três defeituosos: 99.99%\n"
          ]
        }
      ]
    },
    {
      "cell_type": "code",
      "source": [
        "#4)Um curso de treinamento aumenta a produtividade dos funcionários de uma certa empresa em 80% dos casos.\n",
        "#Se dez funcionários são selecionados ao acaso para receber esse treinamento, encontre a probabilidade de: (segundo uma distribuição binomial)\n",
        "#Exatamente sete funcionários aumentarem a produtividade;\n",
        "#Não mais que oito funcionários aumentarem a produtividade;\n",
        "#Pelo menos três funcionários aumentarem a produtividade.\n"
      ],
      "metadata": {
        "id": "0kFfu6KJffPj"
      },
      "execution_count": null,
      "outputs": []
    },
    {
      "cell_type": "code",
      "source": [
        "from math import comb\n",
        "n = 10\n",
        "p = 0.8\n",
        "def binomial_probability(n, k, p):\n",
        "    return comb(n, k) * (p ** k) * ((1 - p) ** (n - k))\n",
        "p_x_7 = binomial_probability(n, 7, p)\n",
        "\n",
        "# b) Não mais que 8 funcionários aumentarem a produtividade (P(X ≤ 8))\n",
        "p_x_leq_8 = sum(binomial_probability(n, k, p) for k in range(9))  # Soma de P(X=0) até P(X=8)\n",
        "\n",
        "# c) Pelo menos 3 funcionários aumentarem a produtividade (P(X ≥ 3))\n",
        "p_x_geq_3 = 1 - sum(binomial_probability(n, k, p) for k in range(3))  # 1 - [P(X=0) + P(X=1) + P(X=2)]\n",
        "print(f\"Probabilidade de exatamente 7 funcionários aumentarem a produtividade: {p_x_7:.2%}\")\n",
        "print(f\"Probabilidade de não mais que 8 funcionários aumentarem a produtividade: {p_x_leq_8:.2%}\")\n",
        "print(f\"Probabilidade de pelo menos 3 funcionários aumentarem a produtividade: {p_x_geq_3:.2%}\")\n"
      ],
      "metadata": {
        "colab": {
          "base_uri": "https://localhost:8080/"
        },
        "id": "gIgTY8CBf8iz",
        "outputId": "8a10fdd3-cf3d-4682-8624-cd19422c60b1"
      },
      "execution_count": null,
      "outputs": [
        {
          "output_type": "stream",
          "name": "stdout",
          "text": [
            "Probabilidade de exatamente 7 funcionários aumentarem a produtividade: 20.13%\n",
            "Probabilidade de não mais que 8 funcionários aumentarem a produtividade: 62.42%\n",
            "Probabilidade de pelo menos 3 funcionários aumentarem a produtividade: 99.99%\n"
          ]
        }
      ]
    },
    {
      "cell_type": "code",
      "source": [
        "#5)Muitas empresas usam uma técnica de controle de qualidade chamada de amostragem de aceitação para monitorar o carregamento de chegada de peças,\n",
        "#matérias-primas e assim por diante. Na indústria eletrônica, as peças de componentes são comumente embarcadas pelos fornecedores em grandes lotes.\n",
        "#A inspeção de uma amostra de n componentes pode ser vista como os n ensaios de um experimento binomial. O resultado de cada componente testado\n",
        "#(ensaio) será aquele de que um componente é bom ou é defeituoso. A Reynolds Electronics aceita um lote de um determinado fornecedor se os componentes\n",
        "#defeituosos em um lote não excedem 1%. Suponha uma amostra aleatória de cinco itens de um recente embarque tenha sido testada.\n",
        "\n",
        "#a)Assuma que 1% do embarque seja defeituoso. Calcule a probabilidade de que nenhum item na amostra seja defeituoso.\n",
        "#b)Assuma que 1% do embarque seja defeituoso. Calcule a probabilidade de que um item na amostra seja defeituoso.\n",
        "#c)Qual é a probabilidade de se observar um item ou mais com defeito na amostra se 1% do embarque é defeituoso?\n"
      ],
      "metadata": {
        "id": "1euYGh2agWIK"
      },
      "execution_count": null,
      "outputs": []
    },
    {
      "cell_type": "code",
      "source": [
        "n = 5\n",
        "p = 0.01\n",
        "def binomial_probability(n, k, p):\n",
        "    return comb(n, k) * (p ** k) * ((1 - p) ** (n - k))\n",
        "\n",
        "# a) Probabilidade de nenhum item ser defeituoso (P(X = 0))\n",
        "p_x_0 = binomial_probability(n, 0, p)\n",
        "\n",
        "# b) Probabilidade de um item ser defeituoso (P(X = 1))\n",
        "p_x_1 = binomial_probability(n, 1, p)\n",
        "\n",
        "# c) Probabilidade de pelo menos um item ser defeituoso (P(X ≥ 1))\n",
        "p_x_geq_1 = 1 - p_x_0\n",
        "\n",
        "p_x_0, p_x_1, p_x_geq_1\n"
      ],
      "metadata": {
        "colab": {
          "base_uri": "https://localhost:8080/"
        },
        "id": "eoY0GK_XglBg",
        "outputId": "19de3a8e-84e9-4499-934f-a2f42139435e"
      },
      "execution_count": null,
      "outputs": [
        {
          "output_type": "execute_result",
          "data": {
            "text/plain": [
              "(0.9509900498999999, 0.0480298005, 0.04900995010000009)"
            ]
          },
          "metadata": {},
          "execution_count": 13
        }
      ]
    },
    {
      "cell_type": "code",
      "source": [
        "from math import comb\n",
        "p = 0.01\n",
        "q = 1 - p\n",
        "n = 5\n",
        "\n",
        "# a) Probabilidade de nenhum item na amostra ser defeituoso (k = 0)\n",
        "prob_nenhum_defeituoso = comb(n, 0) * (p ** 0) * (q ** n)\n",
        "print(f\"a) Probabilidade de nenhum item ser defeituoso: {prob_nenhum_defeituoso:.4f} ou {prob_nenhum_defeituoso * 100:.2f}%\")\n",
        "\n",
        "# b) Probabilidade de um item na amostra ser defeituoso (k = 1)\n",
        "prob_um_defeituoso = comb(n, 1) * (p ** 1) * (q ** (n - 1))\n",
        "print(f\"b) Probabilidade de um item ser defeituoso: {prob_um_defeituoso:.4f} ou {prob_um_defeituoso * 100:.2f}%\")\n",
        "\n",
        "# c) Probabilidade de um item ou mais com defeito na amostra (k >= 1)\n",
        "prob_um_ou_mais_defeituosos = 1 - prob_nenhum_defeituoso\n",
        "print(f\"c) Probabilidade de um item ou mais com defeito: {prob_um_ou_mais_defeituosos:.4f} ou {prob_um_ou_mais_defeituosos * 100:.2f}%\")"
      ],
      "metadata": {
        "colab": {
          "base_uri": "https://localhost:8080/"
        },
        "id": "RTD3_4EokqtK",
        "outputId": "d55281ca-da9b-44c3-9017-4efbd488fb08"
      },
      "execution_count": null,
      "outputs": [
        {
          "output_type": "stream",
          "name": "stdout",
          "text": [
            "a) Probabilidade de nenhum item ser defeituoso: 0.9510 ou 95.10%\n",
            "b) Probabilidade de um item ser defeituoso: 0.0480 ou 4.80%\n",
            "c) Probabilidade de um item ou mais com defeito: 0.0490 ou 4.90%\n"
          ]
        }
      ]
    }
  ]
}