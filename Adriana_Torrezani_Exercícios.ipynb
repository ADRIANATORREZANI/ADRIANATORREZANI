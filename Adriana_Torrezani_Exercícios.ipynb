{
  "nbformat": 4,
  "nbformat_minor": 0,
  "metadata": {
    "colab": {
      "provenance": [],
      "include_colab_link": true
    },
    "kernelspec": {
      "name": "python3",
      "display_name": "Python 3"
    },
    "language_info": {
      "name": "python"
    }
  },
  "cells": [
    {
      "cell_type": "markdown",
      "metadata": {
        "id": "view-in-github",
        "colab_type": "text"
      },
      "source": [
        "<a href=\"https://colab.research.google.com/github/ADRIANATORREZANI/ADRIANATORREZANI/blob/main/Adriana_Torrezani_Exerc%C3%ADcios.ipynb\" target=\"_parent\"><img src=\"https://colab.research.google.com/assets/colab-badge.svg\" alt=\"Open In Colab\"/></a>"
      ]
    },
    {
      "cell_type": "code",
      "source": [
        "import scipy.stats as sp"
      ],
      "metadata": {
        "id": "wWxOOrD6qT8_"
      },
      "execution_count": null,
      "outputs": []
    },
    {
      "cell_type": "code",
      "source": [
        "#1.Uma pesquisa de mercado revelou que 240 dentre 600 pessoas de uma localidade,\n",
        "#escolhidas aleatoriamente, comprariam certo produto se o mesmo for lançado no mercado da localidade.\n",
        "#Construa intervalos de confiança de 95% e 99% para a proporção de pessoas da localidade que comprariam o referido produto.\n"
      ],
      "metadata": {
        "id": "ScnHlkpcpm4M"
      },
      "execution_count": null,
      "outputs": []
    },
    {
      "cell_type": "code",
      "source": [
        "n = 600\n",
        "x = 240\n",
        "p_hat = x / n\n",
        "confianca_95 = 0.95\n",
        "confianca_99 = 0.99\n",
        "z_95 = sp.norm.ppf((1 + confianca_95) / 2)\n",
        "z_99 = sp.norm.ppf((1 + confianca_99) / 2)\n",
        "# Erro padrão\n",
        "SE = math.sqrt((p_hat * (1 - p_hat)) / n)\n",
        "IC_95 = (p_hat - z_95 * SE, p_hat + z_95 * SE)\n",
        "IC_99 = (p_hat - z_99 * SE, p_hat + z_99 * SE)\n",
        "print(f\"Intervalo de Confiança de 95%: ({IC_95[0]:.4f}, {IC_95[1]:.4f})\")\n",
        "print(f\"Intervalo de Confiança de 99%: ({IC_99[0]:.4f}, {IC_99[1]:.4f})\")"
      ],
      "metadata": {
        "colab": {
          "base_uri": "https://localhost:8080/"
        },
        "id": "I4T_UruHqXtP",
        "outputId": "0d4c03e6-5516-45e4-f153-ea4be7168597"
      },
      "execution_count": null,
      "outputs": [
        {
          "output_type": "stream",
          "name": "stdout",
          "text": [
            "Intervalo de Confiança de 95%: (0.3608, 0.4392)\n",
            "Intervalo de Confiança de 99%: (0.3485, 0.4515)\n"
          ]
        }
      ]
    },
    {
      "cell_type": "code",
      "source": [
        "#2.\tO fabricante de certa marca de suco informa que as embalagens de seu produto têm em média 500 ml,\n",
        "#com desvio padrão igual a 10 ml. Tendo sido encontradas no mercado algumas embalagens com menos de 500 ml,\n",
        "#suspeita-se que a informação do fabricante seja falsa. Para verificar se isto ocorre,\n",
        "#um fiscal analisa uma amostra de 200 embalagens escolhidas aleatoriamente no mercado e constata que as mesmas contêm em média 498 ml.\n",
        "#Considerando-se um nível de significância de 5%, pode-se afirmar que o fabricante está correto? Calcule o valor da prova para esta amostra."
      ],
      "metadata": {
        "id": "Ic8xS4_yupUw"
      },
      "execution_count": null,
      "outputs": []
    },
    {
      "cell_type": "code",
      "source": [
        "mu_0 = 500\n",
        "sigma = 10\n",
        "n = 200\n",
        "x_bar = 498\n",
        "alpha = 0.05\n",
        "se = sigma / np.sqrt(n)\n",
        "z = (x_bar - mu_0) / se\n",
        "z_critico = sp.norm.ppf(1 - alpha / 2)\n",
        "p_valor = 2 * (1 - sp.norm.cdf(abs(z)))\n",
        "definir = \"REJEITAMOS\" if abs(z) > z_critico else \"NÃO REJEITAMOS\"\n",
        "print(f\"Estatística de teste (Z): {z:.4f}\")\n",
        "print(f\"Valor crítico: ±{z_critico:.4f}\")\n",
        "print(f\"P-valor: {p_valor:.4f}\")\n",
        "print(f\"Conclusão: {definir} a hipótese nula (H0).\")\n"
      ],
      "metadata": {
        "colab": {
          "base_uri": "https://localhost:8080/"
        },
        "id": "x3OL-SvluzkO",
        "outputId": "7b139f91-f02d-4e3f-9ca4-f561e39e929b"
      },
      "execution_count": null,
      "outputs": [
        {
          "output_type": "stream",
          "name": "stdout",
          "text": [
            "Estatística de teste (Z): -2.8284\n",
            "Valor crítico: ±1.9600\n",
            "P-valor: 0.0047\n",
            "Conclusão: REJEITAMOS a hipótese nula (H0).\n"
          ]
        }
      ]
    },
    {
      "cell_type": "code",
      "source": [
        "#3-A duração das lâmpadas produzidas por certo fabricante tem distribuição normal\n",
        "#com média igual a 1200 horas e desvio padrão igual a 300 horas. O fabricante introduz\n",
        "#um novo processo na produção das lâmpadas. Para verificar se o novo processo produz lâmpadas de maior duração,\n",
        " #o fabricante observa 100 lâmpadas produzidas pelo novo processo e constata que as mesmas duram em média 1265 horas.\n",
        " #Admitindo-se um nível de significância de 5%, pode-se concluir que o novo processo produz lâmpadas com maior duração?"
      ],
      "metadata": {
        "id": "Bzd9_MHv8IjX"
      },
      "execution_count": null,
      "outputs": []
    },
    {
      "cell_type": "code",
      "source": [
        "mu_0 = 1200\n",
        "sigma = 300\n",
        "n = 100\n",
        "x_bar = 1265\n",
        "z = (x_bar - mu_0) / (sigma / (n ** 0.5))\n",
        "p_valor = 1 - sp.norm.cdf(z)\n",
        "print(f\"Valor do teste Z: {z:.2f}\")\n",
        "print(f\"Valor-p: {p_valor:.4f}\")\n",
        "alpha = 0.05\n",
        "if p_valor < alpha:\n",
        "    print(\"Rejeitamos H0: O novo processo produz lâmpadas com maior duração.\")\n",
        "else:\n",
        "    print(\"Não rejeitamos H0: Não há evidências suficientes para afirmar que o novo processo melhora a duração.\")\n"
      ],
      "metadata": {
        "colab": {
          "base_uri": "https://localhost:8080/"
        },
        "id": "siFCBGn28XFf",
        "outputId": "f7f08866-1ea9-45be-aa9e-a439fc287d3e"
      },
      "execution_count": null,
      "outputs": [
        {
          "output_type": "stream",
          "name": "stdout",
          "text": [
            "Valor do teste Z: 2.17\n",
            "Valor-p: 0.0151\n",
            "Rejeitamos H0: O novo processo produz lâmpadas com maior duração.\n"
          ]
        }
      ]
    },
    {
      "cell_type": "code",
      "source": [
        "#4.O custo de produção de certo artigo numa localidade tem distribuição normal com média igual a R$42,00.\n",
        "#Desenvolve-se uma política de redução de custos na empresa para melhorar a competitividade do referido produto no mercado.\n",
        "#Observando-se os custos de 100 unidades deste produto, obteve-se uma média de 34,9 e um desvio padrão de 3,96.\n",
        "#Admitindo-se um nível de significância de 5%, pode-se afirmar que o custo do produto considerado diminuiu?"
      ],
      "metadata": {
        "id": "CaLlavIV90MY"
      },
      "execution_count": null,
      "outputs": []
    },
    {
      "cell_type": "code",
      "source": [
        "mu_0 = 42.00\n",
        "sigma = 3.96\n",
        "n = 100\n",
        "x_bar = 34.9\n",
        "z = (x_bar - mu_0) / (sigma / (n ** 0.5))\n",
        "p_valor = sp.norm.cdf(z)\n",
        "print(f\"Valor do teste Z: {z:.2f}\")\n",
        "print(f\"Valor-p: {p_valor:.4f}\")\n",
        "alpha = 0.05\n",
        "if p_valor < alpha:\n",
        "    print(\"Rejeitamos H0: O custo do produto diminuiu significativamente.\")\n",
        "else:\n",
        "    print(\"Não rejeitamos H0: Não há evidências suficientes para afirmar que o custo diminuiu.\")"
      ],
      "metadata": {
        "colab": {
          "base_uri": "https://localhost:8080/"
        },
        "id": "F94rhBdi98LU",
        "outputId": "4a7a71d4-48d3-44f1-d821-6b0fdd83b5d2"
      },
      "execution_count": null,
      "outputs": [
        {
          "output_type": "stream",
          "name": "stdout",
          "text": [
            "Valor do teste Z: -17.93\n",
            "Valor-p: 0.0000\n",
            "Rejeitamos H0: O custo do produto diminuiu significativamente.\n"
          ]
        }
      ]
    },
    {
      "cell_type": "code",
      "source": [
        "#5-O controle de qualidade das peças produzidas por certa fábrica exige que o diâmetro médio das mesmas seja 57 mm.\n",
        "#Para verificar se o processo de produção está sob controle, observam-se os diâmetros de 100 peças,\n",
        "#constatando-se uma média de 56,91mm e um desvio padrão de 0,24mm. Admitindo-se um nível de significância de 5%, pode-se\n",
        "#concluir que o processo de produção está sob controle?"
      ],
      "metadata": {
        "id": "SMn7-HFN-XGn"
      },
      "execution_count": null,
      "outputs": []
    },
    {
      "cell_type": "code",
      "source": [
        "mu_0 = 57.00\n",
        "sigma = 0.24\n",
        "n = 100\n",
        "x_bar = 56.91\n",
        "z = (x_bar - mu_0) / (sigma / (n ** 0.5))\n",
        "p_valor = 2 * (1 - sp.norm.cdf(abs(z)))\n",
        "print(f\"Valor do teste Z: {z:.2f}\")\n",
        "print(f\"Valor-p: {p_valor:.4f}\")\n",
        "alpha = 0.05\n",
        "if p_valor < alpha:\n",
        "    print(\"Rejeitamos H0: O processo de produção NÃO está sob controle.\")\n",
        "else:\n",
        "    print(\"Não rejeitamos H0: O processo de produção está sob controle.\")"
      ],
      "metadata": {
        "colab": {
          "base_uri": "https://localhost:8080/"
        },
        "id": "DmQOGpat-yZ8",
        "outputId": "af2ab000-ed45-45e9-b1e4-a1b13c9e6fcf"
      },
      "execution_count": null,
      "outputs": [
        {
          "output_type": "stream",
          "name": "stdout",
          "text": [
            "Valor do teste Z: -3.75\n",
            "Valor-p: 0.0002\n",
            "Rejeitamos H0: O processo de produção NÃO está sob controle.\n"
          ]
        }
      ]
    },
    {
      "cell_type": "code",
      "source": [
        "#6-Numa localidade, 32% dos consumidores consomem determinado produto.\n",
        "#Foi lançado no mercado da localidade um produto concorrente.\n",
        "#Uma pesquisa realizada com 500 consumidores escolhidos ao acaso revelou que 145 dentre estes consomem o antigo produto.\n",
        "#Pode-se concluir, num nível de significância de 2%, que a preferência pelo produto antigo diminuiu com a entrada do concorrente no mercado?\n",
        "#Calcule o valor da prova para esta amostra."
      ],
      "metadata": {
        "id": "e8uLXVgJ_IFV"
      },
      "execution_count": null,
      "outputs": []
    },
    {
      "cell_type": "code",
      "source": [
        "p_0 = 0.32\n",
        "n = 500\n",
        "x = 145\n",
        "p_hat = x / n\n",
        "z = (p_hat - p_0) / ((p_0 * (1 - p_0) / n) ** 0.5)\n",
        "p_valor = sp.norm.cdf(z)\n",
        "print(f\"Valor do teste Z: {z:.2f}\")\n",
        "print(f\"Valor-p: {p_valor:.4f}\")\n",
        "alpha = 0.02\n",
        "if p_valor < alpha:\n",
        "    print(\"Rejeitamos H0: A preferência pelo produto antigo diminuiu.\")\n",
        "else:\n",
        "    print(\"Não rejeitamos H0: Não há evidências suficientes de que a preferência pelo produto antigo diminuiu.\")"
      ],
      "metadata": {
        "colab": {
          "base_uri": "https://localhost:8080/"
        },
        "id": "A0ZkogAS_eAs",
        "outputId": "d1300aae-871c-428c-bd19-81b7de489344"
      },
      "execution_count": null,
      "outputs": [
        {
          "output_type": "stream",
          "name": "stdout",
          "text": [
            "Valor do teste Z: -1.44\n",
            "Valor-p: 0.0752\n",
            "Não rejeitamos H0: Não há evidências suficientes de que a preferência pelo produto antigo diminuiu.\n"
          ]
        }
      ]
    },
    {
      "cell_type": "code",
      "source": [
        "#7-Sabe-se que 6% das unidades de certo produto são substituídas gratuitamente por apresentar defeitos de fabricação.\n",
        "#Para reduzir este percentual, o fabricante investiu na melhoria da qualidade do produto.\n",
        "#Consta-se que 12 dentre 400 unidades vendidas tiveram que ser substituídas gratuitamente por apresentar defeitos de fabricação.\n",
        "#Pode-se concluir, num nível de significância de 3%, que a qualidade do produto melhorou?"
      ],
      "metadata": {
        "id": "Y9zlomcrAKkA"
      },
      "execution_count": null,
      "outputs": []
    },
    {
      "cell_type": "code",
      "source": [
        "p0 = 0.06\n",
        "n = 400\n",
        "x = 12\n",
        "p_hat = x / n\n",
        "z = (p_hat - p0) / (p0 * (1 - p0) / n) ** 0.5\n",
        "alpha = 0.03\n",
        "z_critical = sp.norm.ppf(alpha)\n",
        "if z < z_critical:\n",
        "    print(\"Rejeitamos a hipótese nula. A qualidade do produto melhorou.\")\n",
        "else:\n",
        "    print(\"Não rejeitamos a hipótese nula. Não há evidências suficientes para concluir que a qualidade melhorou.\")\n",
        "print(f\"Estatística do teste (z): {z:.4f}\")\n",
        "print(f\"Valor crítico de z: {z_critical:.4f}\")"
      ],
      "metadata": {
        "colab": {
          "base_uri": "https://localhost:8080/"
        },
        "id": "e3lTY556BS0-",
        "outputId": "697fad06-e603-4fe5-8643-77379c6dc889"
      },
      "execution_count": null,
      "outputs": [
        {
          "output_type": "stream",
          "name": "stdout",
          "text": [
            "Rejeitamos a hipótese nula. A qualidade do produto melhorou.\n",
            "Estatística do teste (z): -2.5265\n",
            "Valor crítico de z: -1.8808\n"
          ]
        }
      ]
    }
  ]
}