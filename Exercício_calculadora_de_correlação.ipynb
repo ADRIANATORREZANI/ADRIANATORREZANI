{
  "nbformat": 4,
  "nbformat_minor": 0,
  "metadata": {
    "colab": {
      "provenance": [],
      "include_colab_link": true
    },
    "kernelspec": {
      "name": "python3",
      "display_name": "Python 3"
    },
    "language_info": {
      "name": "python"
    }
  },
  "cells": [
    {
      "cell_type": "markdown",
      "metadata": {
        "id": "view-in-github",
        "colab_type": "text"
      },
      "source": [
        "<a href=\"https://colab.research.google.com/github/ADRIANATORREZANI/ADRIANATORREZANI/blob/main/Exerc%C3%ADcio_calculadora_de_correla%C3%A7%C3%A3o.ipynb\" target=\"_parent\"><img src=\"https://colab.research.google.com/assets/colab-badge.svg\" alt=\"Open In Colab\"/></a>"
      ]
    },
    {
      "cell_type": "code",
      "execution_count": null,
      "metadata": {
        "colab": {
          "base_uri": "https://localhost:8080/"
        },
        "id": "EXpSjTKQv4rq",
        "outputId": "883cf257-d2d4-4a7b-a12f-97647fbf7cfc"
      },
      "outputs": [
        {
          "output_type": "stream",
          "name": "stdout",
          "text": [
            "Informe os valores de x separados por espaços: 1 2 3 4 5\n",
            "Informe os valores de y separados por espaços: 1 2 4 5 8\n",
            "0.9814954576223637\n",
            "0.963333333333333\n"
          ]
        }
      ],
      "source": [
        "dadosx = input('Informe os valores de x separados por espaços: ')\n",
        "dadosy = input('Informe os valores de y separados por espaços: ')\n",
        "x = dadosx.split()\n",
        "y = dadosy.split()\n",
        "xq = []\n",
        "yq = []\n",
        "xy = []\n",
        "for i in range(len(x)):\n",
        "  x[i] = float(x[i])\n",
        "  y[i] = float(y[i])\n",
        "  xq.append(x[i]**2)\n",
        "  yq.append(y[i]**2)\n",
        "  xy.append(x[i]*y[i])\n",
        "sx = sum(x)\n",
        "sy = sum(y)\n",
        "sxq = sum(xq)\n",
        "syq = sum(yq)\n",
        "sxy = sum(xy)\n",
        "n = len(x)\n",
        "r = (sxy - (sx * sy / n)) / ((sxq - (sx**2/n)) * (syq - (sy**2/n)))**(1/2)\n",
        "print(r)\n",
        "print(r**2)"
      ]
    },
    {
      "cell_type": "code",
      "source": [
        "'''\n",
        "Acrescente a seguinte funcionalidade:\n",
        "Baseado em uma regressão linear simples\n",
        "dê ao usuário a opção de escolher\n",
        "'''"
      ],
      "metadata": {
        "id": "8pfeyFWA4Buf"
      },
      "execution_count": null,
      "outputs": []
    },
    {
      "cell_type": "code",
      "source": [
        "dadosx = input('Informe os valores de x separados por espaços: ')\n",
        "dadosy = input('Informe os valores de y separados por espaços: ')\n",
        "novox = float(input('Informe o valor de x para previsão de y: '))\n",
        "x = dadosx.split()\n",
        "y = dadosy.split()\n",
        "xq = []\n",
        "yq = []\n",
        "xy = []\n",
        "for i in range(len(x)):\n",
        "  x[i] = float(x[i])\n",
        "  y[i] = float(y[i])\n",
        "  xq.append(x[i]**2)\n",
        "  yq.append(y[i]**2)\n",
        "  xy.append(x[i]*y[i])\n",
        "sx = sum(x)\n",
        "sy = sum(y)\n",
        "sxq = sum(xq)\n",
        "syq = sum(yq)\n",
        "sxy = sum(xy)\n",
        "n = len(x)\n",
        "mediax = sx/n\n",
        "mediay = sy/n\n",
        "r = (sxy - (sx * sy / n)) / ((sxq - (sx**2/n)) * (syq - (sy**2/n)))**(1/2)\n",
        "beta = (sxy - (sx * sy / n)) / (sxq - (sx**2/n))\n",
        "a = mediay - beta * mediax\n",
        "y_previsto = a + beta * novox\n",
        "print(r)\n",
        "print(r**2)\n",
        "print(a)\n",
        "print(beta)\n",
        "print(f'Para x = {novox} a previsão de Y é {y_previsto}')\n"
      ],
      "metadata": {
        "colab": {
          "base_uri": "https://localhost:8080/"
        },
        "id": "z1_9gueQ7fgU",
        "outputId": "d6a1f558-920f-4041-a8bc-e3607bb80c12"
      },
      "execution_count": null,
      "outputs": [
        {
          "output_type": "stream",
          "name": "stdout",
          "text": [
            "Informe os valores de x separados por espaços: 1 2 3 4 5 \n",
            "Informe os valores de y separados por espaços: 1 2 4 5 8\n",
            "Informe o valor de x para previsão de y: 6\n",
            "0.9814954576223637\n",
            "0.963333333333333\n",
            "-1.0999999999999996\n",
            "1.7\n",
            "Para x = 6.0 a previsão de Y é 9.1\n"
          ]
        }
      ]
    }
  ]
}