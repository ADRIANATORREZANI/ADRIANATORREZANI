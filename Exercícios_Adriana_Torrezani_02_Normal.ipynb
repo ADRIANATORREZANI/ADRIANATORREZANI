{
  "nbformat": 4,
  "nbformat_minor": 0,
  "metadata": {
    "colab": {
      "provenance": [],
      "include_colab_link": true
    },
    "kernelspec": {
      "name": "python3",
      "display_name": "Python 3"
    },
    "language_info": {
      "name": "python"
    }
  },
  "cells": [
    {
      "cell_type": "markdown",
      "metadata": {
        "id": "view-in-github",
        "colab_type": "text"
      },
      "source": [
        "<a href=\"https://colab.research.google.com/github/ADRIANATORREZANI/ADRIANATORREZANI/blob/main/Exerc%C3%ADcios_Adriana_Torrezani_02_Normal.ipynb\" target=\"_parent\"><img src=\"https://colab.research.google.com/assets/colab-badge.svg\" alt=\"Open In Colab\"/></a>"
      ]
    },
    {
      "cell_type": "code",
      "execution_count": null,
      "metadata": {
        "id": "84EG4b0lUBNQ"
      },
      "outputs": [],
      "source": [
        "import scipy.stats as sp"
      ]
    },
    {
      "cell_type": "code",
      "source": [
        "'''\n",
        "Suponha que a média seja R$ 100.000 e o desvio seja R$ 10.000,00\n",
        "Calcule a probabilidade de que um valor qualquer seja menor ou igual a 100.000\n",
        "sp.norm.cdf(valor_desejado, média, desvio)\n",
        "'''\n",
        "sp.norm.cdf(100000, 100000, 10000)"
      ],
      "metadata": {
        "colab": {
          "base_uri": "https://localhost:8080/"
        },
        "id": "qKa0zLd_UkOR",
        "outputId": "995941c0-ff3b-42f8-c332-1af07cbe5aa0"
      },
      "execution_count": null,
      "outputs": [
        {
          "output_type": "execute_result",
          "data": {
            "text/plain": [
              "0.5"
            ]
          },
          "metadata": {},
          "execution_count": 2
        }
      ]
    },
    {
      "cell_type": "code",
      "source": [
        "'''\n",
        "Suponha que a média seja R$ 100.000 e o desvio seja R$ 10.000,00\n",
        "Calcule a probabilidade de que um valor qualquer seja maior ou igual a 100.000\n",
        "'''\n",
        "1 - sp.norm.cdf(100000, 100000, 10000)"
      ],
      "metadata": {
        "colab": {
          "base_uri": "https://localhost:8080/"
        },
        "id": "hhHEG5IuVKkU",
        "outputId": "9bb79faa-86f9-4582-a823-9565ea3046dd"
      },
      "execution_count": null,
      "outputs": [
        {
          "output_type": "execute_result",
          "data": {
            "text/plain": [
              "0.5"
            ]
          },
          "metadata": {},
          "execution_count": 3
        }
      ]
    },
    {
      "cell_type": "code",
      "source": [
        "'''\n",
        "Suponha que a média seja R$ 100.000 e o desvio seja R$ 10.000,00\n",
        "Calcule a probabilidade de que um valor qualquer seja maior ou igual a 110.000\n",
        "'''\n",
        "1 - sp.norm.cdf(110000, 100000, 10000)"
      ],
      "metadata": {
        "colab": {
          "base_uri": "https://localhost:8080/"
        },
        "id": "fwfsDd_vVW9s",
        "outputId": "b753ced8-3926-4ab1-9df2-10a230eaf8f0"
      },
      "execution_count": null,
      "outputs": [
        {
          "output_type": "execute_result",
          "data": {
            "text/plain": [
              "0.15865525393145707"
            ]
          },
          "metadata": {},
          "execution_count": 4
        }
      ]
    },
    {
      "cell_type": "code",
      "source": [
        "'''\n",
        "Suponha que a média seja R$ 100.000 e o desvio seja R$ 10.000,00\n",
        "Calcule a probabilidade de que um valor qualquer seja menor ou igual a 110.000\n",
        "'''\n",
        "sp.norm.cdf(110000, 100000, 10000)"
      ],
      "metadata": {
        "colab": {
          "base_uri": "https://localhost:8080/"
        },
        "id": "XBCbiuJbV83Y",
        "outputId": "bb0835e7-92f1-47a9-c8c5-f3e775818f84"
      },
      "execution_count": null,
      "outputs": [
        {
          "output_type": "execute_result",
          "data": {
            "text/plain": [
              "0.8413447460685429"
            ]
          },
          "metadata": {},
          "execution_count": 5
        }
      ]
    },
    {
      "cell_type": "code",
      "source": [
        "'''\n",
        "Suponha que a média seja R$ 100.000 e o desvio seja R$ 10.000,00\n",
        "Calcule a probabilidade de que um valor qualquer seja menor ou igual a 115.000\n",
        "'''\n",
        "sp.norm.cdf(115000, 100000, 10000)"
      ],
      "metadata": {
        "colab": {
          "base_uri": "https://localhost:8080/"
        },
        "id": "x6AJXicyWLHY",
        "outputId": "d1e14441-5d63-4056-955e-4cdd4fbf166f"
      },
      "execution_count": null,
      "outputs": [
        {
          "output_type": "execute_result",
          "data": {
            "text/plain": [
              "0.9331927987311419"
            ]
          },
          "metadata": {},
          "execution_count": 6
        }
      ]
    },
    {
      "cell_type": "code",
      "source": [
        "'''\n",
        "Suponha que as alturas dos funcionários de uma empresa seja 172cm com desvio\n",
        "padrão de 8cm\n",
        "assim calcule a probabilidade de que um funcionário qualquer tenha mais do\n",
        "que 192cm\n",
        "'''\n",
        "\n",
        "1 - sp.norm.cdf(192, 172, 8)"
      ],
      "metadata": {
        "colab": {
          "base_uri": "https://localhost:8080/"
        },
        "id": "_zIxY5ynWpzY",
        "outputId": "d0682198-fcce-4a19-b86e-1b9c1a77f376"
      },
      "execution_count": null,
      "outputs": [
        {
          "output_type": "execute_result",
          "data": {
            "text/plain": [
              "0.006209665325776159"
            ]
          },
          "metadata": {},
          "execution_count": 7
        }
      ]
    },
    {
      "cell_type": "code",
      "source": [
        "'''\n",
        "Um fabricante de motores automotivos, sabe que a vida útil dos moteores segue\n",
        "uma distribuição normal de probabilidades com média de 500.000 km e desvido\n",
        "padrão de 10.000 km, assim calcule a probabilidade de que um motor qualquer\n",
        "tenha vida útil de:\n",
        "a) menor ou igual 480.000 km (norm.cdf) P(x <= 480000)\n",
        "b) maior que 480.000 km\n",
        "c) menor que 520.000 km (norm.cdf) P(x <= 520000)\n",
        "d) maior ou igual a 520.000 km\n",
        "e) entre 480.000 e 520.000 km\n",
        "'''\n",
        "import scipy.stats as sp"
      ],
      "metadata": {
        "id": "4PKZFAg585qM"
      },
      "execution_count": null,
      "outputs": []
    },
    {
      "cell_type": "code",
      "source": [
        "'''\n",
        "a) menor ou igual 480.000 km (norm.cdf) P(x <= 480000)\n",
        "'''\n",
        "a = sp.norm.cdf(480000, 500000, 10000)\n",
        "print(f'A probabiblidade de que a vida útil seja menor ou igual a 480.000 km é {a*100:.2}%')"
      ],
      "metadata": {
        "colab": {
          "base_uri": "https://localhost:8080/"
        },
        "id": "ov2oGgDP-3zW",
        "outputId": "8ef51b41-7a1d-4943-c65e-ae33fced507f"
      },
      "execution_count": null,
      "outputs": [
        {
          "output_type": "stream",
          "name": "stdout",
          "text": [
            "A probabiblidade de que a vida útil seja menor ou igual a 480.000 km é 2.3%\n"
          ]
        }
      ]
    },
    {
      "cell_type": "code",
      "source": [
        "'''\n",
        "b) maior que 480.000 km (1 - norm.cdf) P(X > 480.000)\n",
        "'''\n",
        "b = 1 - sp.norm.cdf(480000, 500000, 10000)\n",
        "print(f'A probabiblidade de que a vida útil seja maior a 480.000 km é {b*100:.3}%')"
      ],
      "metadata": {
        "colab": {
          "base_uri": "https://localhost:8080/"
        },
        "id": "qDpeReSO-3cg",
        "outputId": "4c4a1aac-5356-46cf-8427-5dde5862f2ce"
      },
      "execution_count": null,
      "outputs": [
        {
          "output_type": "stream",
          "name": "stdout",
          "text": [
            "A probabiblidade de que a vida útil seja maior a 480.000 km é 97.7%\n"
          ]
        }
      ]
    },
    {
      "cell_type": "code",
      "source": [
        "'''\n",
        "c) menor que 520.000 km (norm.cdf) P(x <= 520000)\n",
        "'''\n",
        "a = sp.norm.cdf(520000, 500000, 10000)\n",
        "print(f'A probabiblidade de que a vida útil seja menor ou igual a 520.000 km é {a*100:.2}%')"
      ],
      "metadata": {
        "id": "GBLtN-A3-3n3"
      },
      "execution_count": null,
      "outputs": []
    },
    {
      "cell_type": "code",
      "source": [
        "'''\n",
        "d) maior ou igual a 520.000 km (1 - norm.cdf) P(X > 520.000)\n",
        "'''\n",
        "d = 1 - sp.norm.cdf(520000, 500000, 10000)\n",
        "print(f'A probabiblidade de que a vida útil seja maior a 520.000 km é {d*100:.3}%')"
      ],
      "metadata": {
        "colab": {
          "base_uri": "https://localhost:8080/"
        },
        "id": "MFvf8GNd-3Mz",
        "outputId": "f7465863-e565-46a0-ea4f-a285250e8ad2"
      },
      "execution_count": null,
      "outputs": [
        {
          "output_type": "stream",
          "name": "stdout",
          "text": [
            "A probabiblidade de que a vida útil seja maior a 520.000 km é 2.28%\n"
          ]
        }
      ]
    },
    {
      "cell_type": "code",
      "source": [
        "#1)O tempo médio que um assinante gasta lendo O Jornal Estadão é de 49 minutos.\n",
        "#Considere que o desvio-padrão seja 16 minutos e que os tempos sejam distribuídos normalmente.\n",
        "#a)Qual a probabilidade de que um assinante gastará pelo menos 1 hora lendo o jornal?\n",
        "#b)Qual a probabilidade de que um assinante gastará não mais do que 30 min lendo o jornal?"
      ],
      "metadata": {
        "id": "t8JTTJtI-2t_"
      },
      "execution_count": null,
      "outputs": []
    },
    {
      "cell_type": "code",
      "source": [
        "'''\n",
        "'a)Qual a probabilidade de que um assinante gastará pelo menos 1 hora lendo o jornal?\n",
        "'''\n",
        "import scipy.stats as sp\n",
        "a = 1 - sp.norm.cdf(60, 49, 16)\n",
        "print(f'A probabiblidade de que um assinante gastará pelo menos 1 hora lendo o jornal é {a*100:.2f}%')\n"
      ],
      "metadata": {
        "colab": {
          "base_uri": "https://localhost:8080/"
        },
        "id": "WJTLupDIKzHY",
        "outputId": "da6b765e-f943-4102-b666-d8c75755ff51"
      },
      "execution_count": null,
      "outputs": [
        {
          "output_type": "stream",
          "name": "stdout",
          "text": [
            "A probabiblidade de que um assinante gastará pelo menos 1 hora lendo o jornal é 24.59%\n"
          ]
        }
      ]
    },
    {
      "cell_type": "code",
      "source": [
        "'''\n",
        "b)Qual a probabilidade de que um assinante gastará não mais do que 30 min lendo o jornal?\n",
        "'''\n",
        "b = sp.norm.cdf(30, 49, 16)\n",
        "print(f'A probabiblidade de que um assinante gastará não mais do que 30 min lendo o jornal é {b*100:.2f}%')\n"
      ],
      "metadata": {
        "colab": {
          "base_uri": "https://localhost:8080/"
        },
        "id": "bDBxtRYRLuj4",
        "outputId": "d132a507-b6c4-4ab1-aea2-13e92ee7f634"
      },
      "execution_count": null,
      "outputs": [
        {
          "output_type": "stream",
          "name": "stdout",
          "text": [
            "A probabiblidade de que um assinante gastará não mais do que 30 min lendo o jornal é 11.75%\n"
          ]
        }
      ]
    },
    {
      "cell_type": "code",
      "source": [
        "#2) A idade média para uma pessoa se casar pela primeira vez é 26 anos.\n",
        "#Considere que as idades para os 1º casamentos tenham uma distribuição normal com um desvio-padrão de 4 anos.\n",
        "#a)Qual é a probabilidade de que uma pessoa que se casa pela 1ª vez tenha menos de 23 anos?\n",
        "#b)Qual é a probabilidade de que uma pessoa que se casa pela 1ª vez esteja na casa dos 20 anos?\n"
      ],
      "metadata": {
        "id": "X9VnQvhgL16A"
      },
      "execution_count": null,
      "outputs": []
    },
    {
      "cell_type": "code",
      "source": [
        "'''\n",
        "a)Qual é a probabilidade de que uma pessoa que se casa pela 1ª vez tenha menos de 23 anos?\n",
        "'''\n",
        "import scipy.stats as sp\n",
        "a = sp.norm.cdf(23, 26, 4)\n",
        "print(f'A probabiblidade de que uma pessoa que se casa pela 1ª vez tenha menos de 23 anos é {a*100:.2f}%')"
      ],
      "metadata": {
        "colab": {
          "base_uri": "https://localhost:8080/"
        },
        "id": "lppkWGhLME1o",
        "outputId": "e25c5d7c-3772-4ddb-a5a8-0c6e7749a1fb"
      },
      "execution_count": null,
      "outputs": [
        {
          "output_type": "stream",
          "name": "stdout",
          "text": [
            "A probabiblidade de que uma pessoa que se casa pela 1ª vez tenha menos de 23 anos é 22.66%\n"
          ]
        }
      ]
    },
    {
      "cell_type": "code",
      "source": [
        "'''\n",
        "Qual é a probabilidade de que uma pessoa que se casa pela 1ª vez esteja na casa dos 20 anos?\n",
        "'''\n",
        "import scipy.stats as sp\n",
        "b = sp.norm.cdf(29, 26, 4)- sp.norm.cdf(20, 26, 4)\n",
        "print(f'A probabiblidade de que uma pessoa que se casa pela 1ª vez esteja na casa dos 20 anos é {b*100:.2f}%')"
      ],
      "metadata": {
        "colab": {
          "base_uri": "https://localhost:8080/"
        },
        "id": "e6mSdxJaMd-P",
        "outputId": "8ba61514-98aa-43d3-b6c5-9488f92e86b5"
      },
      "execution_count": null,
      "outputs": [
        {
          "output_type": "stream",
          "name": "stdout",
          "text": [
            "A probabiblidade de que uma pessoa que se casa pela 1ª vez esteja na casa dos 20 anos é 70.66%\n"
          ]
        }
      ]
    },
    {
      "cell_type": "code",
      "source": [
        "#3)A Motorola usou a distribuição normal para determinar a probabilidade de defeitos e o número de defeitos esperados\n",
        "#no processo de produção. Considere que um processo de produção está concebido para produzir itens\n",
        "#com um peso de 10 gramas e que a média do processo seja 10. Calcule a probabilidade de um defeito e o\n",
        "#número esperado de defeitos para uma campanha de produção de 1.000 unidades, nas seguintes situações:\n",
        "#a)O desvio-padrão do processo é 0,15 e o controle do processo é ajustado em mais ou menos 1 desvio-padrão.\n",
        "# As unidades com pesos menores do que 9,85 ou maiores do que 10,15 gramas serão classificadas como defeituosas.\n",
        "#b)Através de melhorias no projeto, o desvio-padrão do processo pode ser reduzido para 0,05. Assuma que o controle do processo permaneça o mesmo,\n",
        "#com itens com pesos menores que 9,85 e maiores que 10,15 gramas sendo classificados como defeituosos.\n",
        "#c)Qual é a vantagem de se reduzir a variação do processo e ajustar os limites do controle de\n",
        "# processo em um número maior de desvios-padrões a partir da média?"
      ],
      "metadata": {
        "id": "6IDQdmNZMowe"
      },
      "execution_count": null,
      "outputs": []
    },
    {
      "cell_type": "code",
      "source": [
        "'''\n",
        "a)O desvio-padrão do processo é 0,15 e o controle do processo é ajustado em mais ou menos 1 desvio-padrão.As unidades com pesos menores do que 9,85 ou maiores do que 10,15 gramas serão classificadas como defeituosas.\n",
        "'''\n",
        "import scipy.stats as sp\n",
        "a3_1 = 1 - (sp.norm.cdf(10.15, 10, 0.15) - sp.norm.cdf(9.85, 10, 0.15))\n",
        "print(f'A probabilidade de um item defeituoso é {a3_1*100:.2f} e o número esperado de defeitos é {a3_1*1000:}')\n",
        "b3_1 = 1 - (sp.norm.cdf(10.15, 10, 0.05) - sp.norm.cdf(9.85, 10, 0.05))\n",
        "print(f'A probabilidade de um item defeituoso é {b3_1*100:.2f} e o número esperado de defeitos é {b3_1*1000:.0f}')\n"
      ],
      "metadata": {
        "colab": {
          "base_uri": "https://localhost:8080/"
        },
        "id": "wqgugr77N6re",
        "outputId": "ee4830a2-96ce-4ff5-fe39-b4af794defe3"
      },
      "execution_count": null,
      "outputs": [
        {
          "output_type": "stream",
          "name": "stdout",
          "text": [
            "A probabilidade de um item defeituoso é 31.73 e o número esperado de defeitos é 317.3105078629128\n",
            "A probabilidade de um item defeituoso é 0.27 e o número esperado de defeitos é 3\n"
          ]
        }
      ]
    },
    {
      "cell_type": "code",
      "source": [
        "'''\n",
        "Através de melhorias no projeto, o desvio-padrão do processo pode ser reduzido para 0,05. Assuma que o controle do processo permaneça o mesmo,\n",
        "com itens com pesos menores que 9,85 e maiores que 10,15 gramas sendo classificados como defeituosos.\n",
        "'''\n",
        "import scipy.stats as sp\n",
        "b3_1 = 1 - (sp.norm.cdf(10.15, 10, 0.15) - sp.norm.cdf(9.85, 10, 0.15))\n",
        "print(f'A probabilidade de um item defeituoso é {b3_1*100:.2f} e o número esperado de defeitos é {a3_1*1000:.0f}')"
      ],
      "metadata": {
        "colab": {
          "base_uri": "https://localhost:8080/"
        },
        "id": "aFaI2FsVOSgn",
        "outputId": "a24b583e-e9b9-431d-a42a-f3074e2a332b"
      },
      "execution_count": null,
      "outputs": [
        {
          "output_type": "stream",
          "name": "stdout",
          "text": [
            "A probabilidade de um item defeituoso é 31.73 e o número esperado de defeitos é 317\n"
          ]
        }
      ]
    },
    {
      "cell_type": "code",
      "source": [
        "'''\n",
        "Qual é a vantagem de se reduzir a variação do processo e ajustar os limites do controle de processo em um número maior de desvios-padrões a partir da média?\n",
        "'''\n",
        "import scipy.stats as sp\n",
        "c = 1 - sp.norm.cdf(10, 10, 0.15)\n",
        "print(f'A probabiblidade de que um defeito seja encontrado é {c*100:.2f}%')"
      ],
      "metadata": {
        "colab": {
          "base_uri": "https://localhost:8080/"
        },
        "id": "N79fEmUNOlM2",
        "outputId": "922cb36d-346e-4236-ae1d-9b3d5741a2a6"
      },
      "execution_count": null,
      "outputs": [
        {
          "output_type": "stream",
          "name": "stdout",
          "text": [
            "A probabiblidade de que um defeito seja encontrado é 50.00%\n"
          ]
        }
      ]
    },
    {
      "cell_type": "code",
      "source": [
        "#4)A expectativa era de que a crise monetária asiática de 1997 e de 1998 levasse os mercados dos Estados Unidos,\n",
        "#inundados de importações baratas, a substanciais perdas de trabalho.\n",
        "#Cogitou-se também que a Califórnia seria especialmente prejudicada.\n",
        "#O Economic Policy Institute estimou que o número médio de desempregados na Califórnia seria de 126.681 (St Petesburg Times, 24 de janeiro de 1998).\n",
        "#Considere que o número de desempregados seja distribuído normalmente com um desvio-padrão de 30.000.\n",
        "#a)Qual é a probabilidade de que o número de desempregados esteja entre 80.000 e 150.00?\n",
        "#b)Qual é a probabilidade de que o número de desempregados seja menor que 50.000?"
      ],
      "metadata": {
        "id": "Y5pAvzHzOv8I"
      },
      "execution_count": null,
      "outputs": []
    },
    {
      "cell_type": "code",
      "source": [
        "'''\n",
        "a)Qual é a probabilidade de que o número de desempregados esteja entre 80.000 e 150.00?\n",
        "'''\n",
        "import scipy.stats as sp\n",
        "a = sp.norm.cdf(150000, 126681, 30000) - sp.norm.cdf(80000, 126681, 30000)\n",
        "print(f'A probabiblidade de que o número de desempregados esteja entre 80.000 e 150.00 é {a*100:.2f}%')\n"
      ],
      "metadata": {
        "colab": {
          "base_uri": "https://localhost:8080/"
        },
        "id": "QaFkY_opPR0p",
        "outputId": "72ab654d-1db8-4a30-81fb-1c09e500fe26"
      },
      "execution_count": null,
      "outputs": [
        {
          "output_type": "stream",
          "name": "stdout",
          "text": [
            "A probabiblidade de que o número de desempregados esteja entre 80.000 e 150.00 é 72.17%\n"
          ]
        }
      ]
    },
    {
      "cell_type": "code",
      "source": [
        "'''\n",
        "b)Qual é a probabilidade de que o número de desempregados seja menor que 50.000?\n",
        "'''\n",
        "import scipy.stats as sp\n",
        "b = sp.norm.cdf(50000, 126681, 30000)\n",
        "print(f'A probabiblidade de que o número de desempregados seja menor que 50.000 é {b*100:.2f}%')"
      ],
      "metadata": {
        "colab": {
          "base_uri": "https://localhost:8080/"
        },
        "id": "JrujwV-RPfmG",
        "outputId": "fde31541-3092-451f-e741-60e5f68a0831"
      },
      "execution_count": null,
      "outputs": [
        {
          "output_type": "stream",
          "name": "stdout",
          "text": [
            "A probabiblidade de que o número de desempregados seja menor que 50.000 é 0.53%\n"
          ]
        }
      ]
    },
    {
      "cell_type": "code",
      "source": [
        "#5)A de vida útil média (em Km rodados) de um pneu automotivo da marca X é distribuído de forma normal conforme dados obtidos de uma amostra de 20 pneus:\n",
        "#Considerando que a média = 50.000 km e o desvio = 2.500 km da população são bem representados por esta amostra,\n",
        "#calcule a probabilidade deque um pneu escolhido ao acaso tenha probabilidade de:\n",
        "#a)Durar menos que 45000 km\n",
        "#b)Durar mais que 57000 km\n",
        "#c)Ser devolvido à fábrica, se o fabricante garante pelo menos 42.000km"
      ],
      "metadata": {
        "id": "-q8nxYa2QTDo"
      },
      "execution_count": null,
      "outputs": []
    },
    {
      "cell_type": "code",
      "source": [
        "'''\n",
        "a)Durar menos que 45000 km\n",
        "'''\n",
        "import scipy.stats as sp\n",
        "a = sp.norm.cdf(45000, 50000, 2500)\n",
        "print(f'A probabiblidade de que um pneu escolhido ao acaso tenha probabilidade de durar menos que 45000 km é {a*100:.2f}%')"
      ],
      "metadata": {
        "colab": {
          "base_uri": "https://localhost:8080/"
        },
        "id": "GXCzS1ShQv8O",
        "outputId": "b45ed218-9ddf-46ec-97ba-ffe165046d1e"
      },
      "execution_count": null,
      "outputs": [
        {
          "output_type": "stream",
          "name": "stdout",
          "text": [
            "A probabiblidade de que um pneu escolhido ao acaso tenha probabilidade de durar menos que 45000 km é 2.28%\n"
          ]
        }
      ]
    },
    {
      "cell_type": "code",
      "source": [
        "'''\n",
        "b)Durar mais que 57000 km\n",
        "'''\n",
        "import scipy.stats as sp\n",
        "b = 1 - sp.norm.cdf(57000, 50000, 2500)\n",
        "print(f'A probabiblidade de que um pneu escolhido ao acaso tenha probabilidade de durar mais que 57000 km é {b*100:.2f}%')"
      ],
      "metadata": {
        "colab": {
          "base_uri": "https://localhost:8080/"
        },
        "id": "mAWx33q7fA1Q",
        "outputId": "41f9b6c6-ccad-445d-fceb-a41014212b1b"
      },
      "execution_count": null,
      "outputs": [
        {
          "output_type": "stream",
          "name": "stdout",
          "text": [
            "A probabiblidade de que um pneu escolhido ao acaso tenha probabilidade de durar mais que 57000 km é 0.26%\n"
          ]
        }
      ]
    },
    {
      "cell_type": "code",
      "source": [
        "'''\n",
        "c)Ser devolvido à fábrica, se o fabricante garante pelo menos 42.000km\n",
        "'''\n",
        "import scipy.stats as sp\n",
        "c = sp.norm.cdf(42000, 50000, 2500)\n",
        "print(f'A probabiblidade de que um pneu escolhido ao acaso tenha probabilidade de ser devolvido à fábrica, se o fabricante garante pelo menos 42.000km é {c*100:.2f}%')"
      ],
      "metadata": {
        "colab": {
          "base_uri": "https://localhost:8080/"
        },
        "id": "ualnOa5HfK1T",
        "outputId": "0a9a9c2e-bbd1-4eca-836c-8ad443b0f054"
      },
      "execution_count": null,
      "outputs": [
        {
          "output_type": "stream",
          "name": "stdout",
          "text": [
            "A probabiblidade de que um pneu escolhido ao acaso tenha probabilidade de ser devolvido à fábrica, se o fabricante garante pelo menos 42.000km é 0.07%\n"
          ]
        }
      ]
    },
    {
      "cell_type": "code",
      "source": [
        "'''\n",
        "Quando a população de uma variavél ou atributo quantitativo obedece uma\n",
        "distribuição normal, podemos usar uma amostra aleatória para a partir da média e\n",
        "do desvio dessa amostra inferir o intervalo (de um limite inferior até um superior)\n",
        "onde está a média da população como um todo, isso considerando um determinado\n",
        "nível de confiança\n",
        "\n",
        "IC = [(média_amostral - margem_erro) : (média_amostral + margem_erro)]\n",
        "margem_erro = (Z(1-confiança)) * s/n**(1/2)\n",
        "s = desvio-padrão\n",
        "z = número de desvios para uma determinada área sob a curva normal\n",
        "'''\n",
        "sp.norm.ppf(0.025)"
      ],
      "metadata": {
        "colab": {
          "base_uri": "https://localhost:8080/"
        },
        "id": "-47f0x0eJLRQ",
        "outputId": "1b476c4c-bf54-4742-cc09-8b82809aca19"
      },
      "execution_count": null,
      "outputs": [
        {
          "output_type": "execute_result",
          "data": {
            "text/plain": [
              "-1.9599639845400545"
            ]
          },
          "metadata": {},
          "execution_count": 12
        }
      ]
    },
    {
      "cell_type": "code",
      "source": [
        "sp.norm.ppf(0.005)"
      ],
      "metadata": {
        "colab": {
          "base_uri": "https://localhost:8080/"
        },
        "id": "SO_4zIP5JeS1",
        "outputId": "d981eae5-e07e-4d6a-8585-55e7acfa52f4"
      },
      "execution_count": null,
      "outputs": [
        {
          "output_type": "execute_result",
          "data": {
            "text/plain": [
              "-2.575829303548901"
            ]
          },
          "metadata": {},
          "execution_count": 14
        }
      ]
    },
    {
      "cell_type": "code",
      "source": [
        "'''\n",
        "Resolvendo o exemplo com 95% de confiança\n",
        "sp.norm.interval(confiança, média_amostral, erro_padrão)\n",
        "erro_padrão = s/n**(1/2)\n",
        "no nosso exemplo s = 100\n",
        "n = 100\n",
        "erro_padrao = 100 / 100**(1/2)\n",
        "'''\n",
        "sp.norm.interval(0.95, 500, 10)"
      ],
      "metadata": {
        "colab": {
          "base_uri": "https://localhost:8080/"
        },
        "id": "6Xd_CSlXLdO3",
        "outputId": "b19312db-72d6-47be-e964-6710027be71e"
      },
      "execution_count": null,
      "outputs": [
        {
          "output_type": "execute_result",
          "data": {
            "text/plain": [
              "(480.40036015459947, 519.5996398454006)"
            ]
          },
          "metadata": {},
          "execution_count": 17
        }
      ]
    },
    {
      "cell_type": "code",
      "source": [
        "''' \tA duração das lâmpadas de certo fabricante têm distribuição normal com desvio padrão de 150 horas.\n",
        "A duração média das lâmpadas de uma amostra de tamanho 120, retirada da produção, é 2000 horas.\n",
        " Estime por intervalo a duração média das lâmpadas produzidas pelo fabricante. Considere níveis de confiança de 95% e 99%.\n",
        " '''\n",
        "print(sp.norm.interval(0.95, 2000, ((150)/120**(1/2))))\n",
        "print(sp.norm.interval(0.99, 2000, ((150)/120**(1/2))))"
      ],
      "metadata": {
        "colab": {
          "base_uri": "https://localhost:8080/"
        },
        "id": "tXp0F3K9NVu2",
        "outputId": "ae514297-df02-4d7d-e572-ac04b8bc3c46"
      },
      "execution_count": null,
      "outputs": [
        {
          "output_type": "stream",
          "name": "stdout",
          "text": [
            "(1973.1620878442427, 2026.8379121557573)\n",
            "(1964.729004654086, 2035.270995345914)\n"
          ]
        }
      ]
    },
    {
      "cell_type": "code",
      "source": [
        "''' 2. Deseja-se estimar o diâmetro médio dos parafusos produzidos por uma fábrica.\n",
        "Para esta finalidade extraiu-se uma amostra aleatória de 30 parafusos da produção e os mesmos\n",
        "apresentaram os seguintes\n",
        "diâmetros (mm): 10, 11, 11, 11, 12, 12, 12, 12, 13, 13, 13, 13, 13, 13, 13, 13, 13, 13, 13, 13, 14, 14, 14, 14, 14, 15, 15, 15, 16 e 16.\n",
        "Construa intervalos de confiança de 95% e 99% para o diâmetro dos parafusos produzidos pela fábrica.\n",
        "'''\n",
        "dados = [10, 11, 11, 11, 12, 12, 12, 12, 13, 13, 13, 13, 13, 13, 13, 13, 13, 13,\n",
        "13, 13, 14, 14, 14, 14, 14, 15, 15, 15, 16 , 16]\n",
        "import statistics as st\n",
        "media = st.mean(dados)\n",
        "desvio = st.stdev(dados)\n",
        "erro = desvio / (len(dados))**(1/2)\n",
        "print(media)\n",
        "print(desvio)\n",
        "print(erro)\n",
        "a = sp.norm.interval(0.95, media, erro)\n",
        "print(f'{round(a[0],2)} {round(a[1],2)}')\n",
        "print(sp.norm.interval(0.99, media, erro))"
      ],
      "metadata": {
        "colab": {
          "base_uri": "https://localhost:8080/"
        },
        "id": "XgUZVz_ePwue",
        "outputId": "7eaf2d85-b2ee-41e3-e743-8b15b582cae9"
      },
      "execution_count": null,
      "outputs": [
        {
          "output_type": "stream",
          "name": "stdout",
          "text": [
            "13.133333333333333\n",
            "1.4319827906241325\n",
            "0.26144309212801153\n",
            "12.62 13.65\n",
            "(12.459900555419566, 13.8067661112471)\n"
          ]
        }
      ]
    },
    {
      "cell_type": "markdown",
      "source": [
        "# VALOR DE HIPÓSTESES"
      ],
      "metadata": {
        "id": "k-1N2JwblHmy"
      }
    },
    {
      "cell_type": "code",
      "source": [
        "'''\n",
        "Imagine que um processo de produção está ajustado para produzir um determinado ~\n",
        "item em média em 50 segundos e segue uma distribuição normal de probabilidades\n",
        "Para testar se o ajuste está correto, foi selecionada uma amostra de 100 itens\n",
        "e verificou=se que o tempo médio dessa amostra foi de 49 segundos com\n",
        "desvio padrão de 3 segundos. Assim, nosso objetivo é testar se a hipótese de que\n",
        "a média da população é ou não igual a 50 segundos com 95% de confiança\n",
        "'''"
      ],
      "metadata": {
        "id": "uE1D5478lN3J"
      },
      "execution_count": null,
      "outputs": []
    },
    {
      "cell_type": "code",
      "source": [
        "sp.norm.interval(0.95, 49, (3/(100**(1/2))))"
      ],
      "metadata": {
        "colab": {
          "base_uri": "https://localhost:8080/"
        },
        "id": "QR8CbQfllgot",
        "outputId": "8f318ff3-aa54-4fe4-aaea-4fb1563e85f8"
      },
      "execution_count": null,
      "outputs": [
        {
          "output_type": "execute_result",
          "data": {
            "text/plain": [
              "(48.41201080463799, 49.58798919536201)"
            ]
          },
          "metadata": {},
          "execution_count": 55
        }
      ]
    },
    {
      "cell_type": "code",
      "source": [
        "'''\n",
        "Imagine que um processo de produção está ajustado para produzir um determinado ~\n",
        "item em média em 50 segundos e segue uma distribuição normal de probabilidades\n",
        "Para testar se o ajuste está correto, foi selecionada uma amostra de 100 itens\n",
        "e verificou=se que o tempo médio dessa amostra foi de 49 segundos com\n",
        "desvio padrão de 3 segundos. Assim, nosso objetivo é testar se a hipótese de que\n",
        "a média da população é ou não igual a 50 segundos com 99% de confiança\n",
        "'''"
      ],
      "metadata": {
        "id": "NcckENUTmTLV"
      },
      "execution_count": null,
      "outputs": []
    },
    {
      "cell_type": "code",
      "source": [
        "sp.norm.interval(0.99, 49, (3/(100**(1/2))))"
      ],
      "metadata": {
        "colab": {
          "base_uri": "https://localhost:8080/"
        },
        "id": "kYWj06cimXhR",
        "outputId": "e77dbc8e-8fa8-4df1-c271-b70d30873a59"
      },
      "execution_count": null,
      "outputs": [
        {
          "output_type": "execute_result",
          "data": {
            "text/plain": [
              "(48.22725120893533, 49.77274879106467)"
            ]
          },
          "metadata": {},
          "execution_count": 56
        }
      ]
    },
    {
      "cell_type": "code",
      "source": [
        "'''\n",
        "Imagine que um processo segue uma distribuição normal onde a média\n",
        "da população deveria ser igual a 600, para testar essa hipótese foi\n",
        "coletada uma amostra aleatória de 90 unidades que produziu média de 630 com desvio\n",
        "de 70. Considerando um nível de significância de 5%, elabore\n",
        "um teste de hipótese para a média populacional e conclua se H0 será\n",
        "rejeitado ou não.\n",
        "'''\n",
        "# média popilacional testada = 600\n",
        "# média amostral = 630\n",
        "# desvio = 70\n",
        "# tamanho da amostra = 90\n",
        "# nível de significância 0.05\n",
        "'''\n",
        "H0: Mu == 600\n",
        "Ha: Mu != 600\n",
        "Estatística Z = (630 - 600) / 70 / (90)**(1/2))\n",
        "Z crítico + ou - 1.96\n",
        "'''\n",
        "ztest = (630 - 600) / (70 / (90)**(1/2))\n",
        "zcritico = 1.96\n",
        "if abs(ztest) > zcritico:\n",
        "  print(f'Rejeitamos Ho')\n",
        "else:\n",
        "   print(f'Não rejeitamos Ho')\n",
        "\n",
        "\n",
        "\n"
      ],
      "metadata": {
        "colab": {
          "base_uri": "https://localhost:8080/"
        },
        "id": "mOVxhVBoxHvv",
        "outputId": "9b1d1be4-8464-4a44-bd59-b7932eea87bc"
      },
      "execution_count": null,
      "outputs": [
        {
          "output_type": "stream",
          "name": "stdout",
          "text": [
            "Rejeitamos Ho\n"
          ]
        }
      ]
    },
    {
      "cell_type": "code",
      "source": [
        "ztest"
      ],
      "metadata": {
        "colab": {
          "base_uri": "https://localhost:8080/"
        },
        "id": "ZWl8b3kcxI95",
        "outputId": "e4b9379a-500a-40ea-fa2c-4419a6e26dc3"
      },
      "execution_count": null,
      "outputs": [
        {
          "output_type": "execute_result",
          "data": {
            "text/plain": [
              "4.06578556307363"
            ]
          },
          "metadata": {},
          "execution_count": 63
        }
      ]
    }
  ]
}